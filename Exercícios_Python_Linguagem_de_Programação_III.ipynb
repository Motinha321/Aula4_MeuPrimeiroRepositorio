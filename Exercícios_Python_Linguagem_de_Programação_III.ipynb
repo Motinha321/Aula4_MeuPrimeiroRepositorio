{
  "nbformat": 4,
  "nbformat_minor": 0,
  "metadata": {
    "colab": {
      "name": "Exercícios Python - Linguagem de Programação III",
      "provenance": [],
      "toc_visible": true,
      "include_colab_link": true
    },
    "kernelspec": {
      "name": "python3",
      "display_name": "Python 3"
    },
    "language_info": {
      "name": "python"
    }
  },
  "cells": [
    {
      "cell_type": "markdown",
      "metadata": {
        "id": "view-in-github",
        "colab_type": "text"
      },
      "source": [
        "<a href=\"https://colab.research.google.com/github/Motinha321/Aula4_MeuPrimeiroRepositorio/blob/main/Exerc%C3%ADcios_Python_Linguagem_de_Programa%C3%A7%C3%A3o_III.ipynb\" target=\"_parent\"><img src=\"https://colab.research.google.com/assets/colab-badge.svg\" alt=\"Open In Colab\"/></a>"
      ]
    },
    {
      "cell_type": "markdown",
      "source": [
        "#Exercício 1"
      ],
      "metadata": {
        "id": "yVsLYcsnGJ0o"
      }
    },
    {
      "cell_type": "code",
      "source": [
        "x = 1;\n",
        "print( 'O valor de x é:', x,'e ele é', type(x) )"
      ],
      "metadata": {
        "colab": {
          "base_uri": "https://localhost:8080/"
        },
        "id": "CO5Xn80gGMX_",
        "outputId": "8363269a-7187-484d-c015-5e2d83372d07"
      },
      "execution_count": null,
      "outputs": [
        {
          "output_type": "stream",
          "name": "stdout",
          "text": [
            "O valor de x é: 1 e ele é <class 'int'>\n"
          ]
        }
      ]
    },
    {
      "cell_type": "markdown",
      "source": [
        "#Exercício 2"
      ],
      "metadata": {
        "id": "SAaIRedrIBLF"
      }
    },
    {
      "cell_type": "code",
      "source": [
        "y = 2.5\n",
        "print( 'O valor de x é:', y,'e ele é', type(y) )"
      ],
      "metadata": {
        "colab": {
          "base_uri": "https://localhost:8080/"
        },
        "id": "ewYnL0nWGcKA",
        "outputId": "7db93925-b25f-4443-dace-5e7e2fcc7a6d"
      },
      "execution_count": null,
      "outputs": [
        {
          "output_type": "stream",
          "name": "stdout",
          "text": [
            "O valor de x é: 2.5 e ele é <class 'float'>\n"
          ]
        }
      ]
    },
    {
      "cell_type": "markdown",
      "source": [
        "#Exercício 3"
      ],
      "metadata": {
        "id": "weX29V4kIVNI"
      }
    },
    {
      "cell_type": "code",
      "source": [
        "print('Digite um número inteiro: ')\n",
        "print('\\n')\n",
        "a = int(input())\n",
        "print('\\n')\n",
        "print('Mais um número inteiro: ')\n",
        "print('\\n')\n",
        "b = int(input())\n",
        "print('\\n')\n",
        "print('O último número inteiro: ')\n",
        "print('\\n')\n",
        "c = int(input())\n",
        "print('\\n')\n",
        "d = a + b + c\n",
        "print('O resultado da soma dos números inteiros é:', d);"
      ],
      "metadata": {
        "colab": {
          "base_uri": "https://localhost:8080/"
        },
        "id": "uMzf8pQoISGt",
        "outputId": "061aca84-914d-4bec-b569-3fee673c21a2"
      },
      "execution_count": null,
      "outputs": [
        {
          "output_type": "stream",
          "name": "stdout",
          "text": [
            "Digite um número inteiro: \n",
            "\n",
            "\n",
            "5\n",
            "\n",
            "\n",
            "Mais um número inteiro: \n",
            "\n",
            "\n",
            "6\n",
            "\n",
            "\n",
            "O último número inteiro: \n",
            "\n",
            "\n",
            "7\n",
            "\n",
            "\n",
            "O resultado da soma dos números inteiros é: 18\n"
          ]
        }
      ]
    },
    {
      "cell_type": "markdown",
      "source": [
        "#Exercício 4"
      ],
      "metadata": {
        "id": "WYymKDdTNWwo"
      }
    },
    {
      "cell_type": "code",
      "source": [
        "f = float(input('Digite um número real: '))\n",
        "g = f * f\n",
        "print('O resultado ao quadrado deste número é:', g)"
      ],
      "metadata": {
        "colab": {
          "base_uri": "https://localhost:8080/"
        },
        "id": "imAS1Xh7JAN5",
        "outputId": "6a022b2c-5fde-4b84-a49d-78ef97f1036f"
      },
      "execution_count": null,
      "outputs": [
        {
          "output_type": "stream",
          "name": "stdout",
          "text": [
            "Digite um número real: 5\n",
            "O resultado ao quadrado deste número é: 25.0\n"
          ]
        }
      ]
    },
    {
      "cell_type": "markdown",
      "source": [
        "#Exercício 5"
      ],
      "metadata": {
        "id": "5CPtttKy0a6L"
      }
    },
    {
      "cell_type": "code",
      "source": [
        "x = float(input('Digite um número real '))\n",
        "y = x / 5\n",
        "print( f'A quinta parte de {x} é igual a {y}')"
      ],
      "metadata": {
        "id": "_w1gT0PPNs8n",
        "outputId": "be2c7a50-92cf-4b6e-b740-d0b430395dea",
        "colab": {
          "base_uri": "https://localhost:8080/"
        }
      },
      "execution_count": null,
      "outputs": [
        {
          "output_type": "stream",
          "name": "stdout",
          "text": [
            "Digite um número real 5\n",
            "A quinta parte de 5.0 é igual a 1.0\n"
          ]
        }
      ]
    },
    {
      "cell_type": "markdown",
      "source": [
        "#Exercício 6"
      ],
      "metadata": {
        "id": "xT1Bnwhn1oVx"
      }
    },
    {
      "cell_type": "code",
      "source": [
        "c = float(input('Digite quantos °C está hoje: '))\n",
        "f = (c*9/5) + 32\n",
        "print(f'{c}°C em Fahrenheith é igual a: {f}')"
      ],
      "metadata": {
        "id": "gPjj2uxF1gZn",
        "outputId": "14527159-ad73-4f8b-cf60-9029d2a81cda",
        "colab": {
          "base_uri": "https://localhost:8080/"
        }
      },
      "execution_count": null,
      "outputs": [
        {
          "output_type": "stream",
          "name": "stdout",
          "text": [
            "Digite quantos °C está hoje: 35\n",
            "35.0°C em Fahrenheith é igual a: 95.0\n"
          ]
        }
      ]
    },
    {
      "cell_type": "markdown",
      "source": [
        "#Exercício 7"
      ],
      "metadata": {
        "id": "CjPO2MRQ2dd9"
      }
    },
    {
      "cell_type": "code",
      "source": [
        "k = float(input('Digite quantos K está hoje: '))\n",
        "c = k - 279.15\n",
        "print(f'{k} em Celcius é igual a: {c}')"
      ],
      "metadata": {
        "id": "7k5xUcBg2aOt",
        "outputId": "1b9cabd9-7040-4724-a333-ee475fe4b575",
        "colab": {
          "base_uri": "https://localhost:8080/"
        }
      },
      "execution_count": null,
      "outputs": [
        {
          "output_type": "stream",
          "name": "stdout",
          "text": [
            "Digite quantos K está hoje: 842\n",
            "842.0 em Celcius é igual a: 562.85\n"
          ]
        }
      ]
    },
    {
      "cell_type": "markdown",
      "source": [
        "#Exercício 8"
      ],
      "metadata": {
        "id": "vr9yGY6N3Ra5"
      }
    },
    {
      "cell_type": "code",
      "source": [
        "import math\n",
        "a = float(input('Digite um ângulo: '))\n",
        "r = a * math.pi / 180\n",
        "print(f'O ângulo de {a} é igual a: {r}')"
      ],
      "metadata": {
        "id": "vMS2CuNr29-3",
        "outputId": "25643c28-6cfe-4c2b-95b5-551bc292d870",
        "colab": {
          "base_uri": "https://localhost:8080/"
        }
      },
      "execution_count": null,
      "outputs": [
        {
          "output_type": "stream",
          "name": "stdout",
          "text": [
            "Digite um ângulo: 30\n",
            "O ângulo de 30.0 é igual a: 0.5235987755982988\n"
          ]
        }
      ]
    },
    {
      "cell_type": "markdown",
      "source": [
        "#Exercício 9"
      ],
      "metadata": {
        "id": "Am4kmSAW4WWw"
      }
    },
    {
      "cell_type": "code",
      "source": [
        "p = float(input('Digite uma medida em polegadas: '))\n",
        "c = p * 2.54\n",
        "print(f'Esta medida de {p} polegadas é igual a {c} centímetros')"
      ],
      "metadata": {
        "id": "8y2ObXE44Qnv",
        "outputId": "64c4481c-7a7e-401a-cb74-cc4a889b8376",
        "colab": {
          "base_uri": "https://localhost:8080/"
        }
      },
      "execution_count": null,
      "outputs": [
        {
          "output_type": "stream",
          "name": "stdout",
          "text": [
            "Digite uma medida em polegadas: 50\n",
            "Esta medida de 50.0 polegadas é igual a 127.0 centímetros\n"
          ]
        }
      ]
    },
    {
      "cell_type": "markdown",
      "source": [
        "#Exercício 10"
      ],
      "metadata": {
        "id": "PsVwUbtA5Ats"
      }
    },
    {
      "cell_type": "code",
      "source": [
        "a = float(input('Digite um valor: '))\n",
        "b = float(input('Agora outro: '))\n",
        "c = float(input('Só mais um: '))\n",
        "d = (a*a) + (b*b) + (c*c)\n",
        "print(f'Cada número foi elevado ao quadrado, e a soma de todos eles é igual a: {d}')"
      ],
      "metadata": {
        "id": "-TRII-LI40ZX",
        "outputId": "9c8daaf3-6f7b-409e-fb0b-340dfe122b7d",
        "colab": {
          "base_uri": "https://localhost:8080/"
        }
      },
      "execution_count": null,
      "outputs": [
        {
          "output_type": "stream",
          "name": "stdout",
          "text": [
            "Digite um valor: 2\n",
            "Agora outro: 3\n",
            "Só mais um: 5\n",
            "Cada número foi elevado ao quadrado, e a soma de todos eles é igual a: 38.0\n"
          ]
        }
      ]
    },
    {
      "cell_type": "markdown",
      "source": [
        "#Exercício 11"
      ],
      "metadata": {
        "id": "7pRfVPO4PVkZ"
      }
    },
    {
      "cell_type": "code",
      "source": [
        "print('Por favor digite o nome e as notas do aluno:')\n",
        "lista=[]\n",
        "while len(lista)<4:\n",
        "  nota=float(input('Digite a nota:'))\n",
        "  if nota <=10:\n",
        "    lista.append(nota)\n",
        "print(f'A média do aluno é {(lista[0]+lista[1]+lista[2]+lista[3])/len(lista)}')"
      ],
      "metadata": {
        "id": "n7yDsqvKQHeq",
        "outputId": "54d702aa-4a46-4d8a-cb3e-6390e26edb0c",
        "colab": {
          "base_uri": "https://localhost:8080/"
        }
      },
      "execution_count": null,
      "outputs": [
        {
          "output_type": "stream",
          "name": "stdout",
          "text": [
            "Por favor digite o nome e as notas do aluno:\n",
            "Digite a nota:5\n",
            "Digite a nota:8\n",
            "Digite a nota:8\n",
            "Digite a nota:7\n",
            "A média do aluno é 7.0\n"
          ]
        }
      ]
    },
    {
      "cell_type": "markdown",
      "source": [
        "#Exercício 12"
      ],
      "metadata": {
        "id": "zmecf79sVfRZ"
      }
    },
    {
      "cell_type": "code",
      "source": [
        "while True:\n",
        "  try:\n",
        "    x = int(input('Digite um número inteiro: '))\n",
        "    break\n",
        "  except ValueError:\n",
        "    print('Você não digitou um número')\n",
        "s = x+1\n",
        "a = x-1\n",
        "print(f'O antecessor do valor {x} é igual a {a} e o sucessor é {s}')\n"
      ],
      "metadata": {
        "id": "Ok9lacuVRmtH",
        "outputId": "e463fd24-5460-4643-c9f2-b5f79a57958f",
        "colab": {
          "base_uri": "https://localhost:8080/"
        }
      },
      "execution_count": null,
      "outputs": [
        {
          "output_type": "stream",
          "name": "stdout",
          "text": [
            "Digite um número inteiro: 87\n",
            "O antecessor do valor 87 é igual a 86 e o sucessor é 88\n"
          ]
        }
      ]
    },
    {
      "cell_type": "markdown",
      "source": [
        "#Exercício 13"
      ],
      "metadata": {
        "id": "t_cgAkHTX9Q0"
      }
    },
    {
      "cell_type": "code",
      "source": [
        "while True:\n",
        "  try:\n",
        "    x = int(input('Digite um número inteiro: '))\n",
        "    break\n",
        "  except ValueError:\n",
        "    print('O valor não é um número inteiro')\n",
        "t = (x*3) + 1\n",
        "d = (x*2) - 1\n",
        "print(f'O sucessor do triplo de {x} é igual a {t} e o antecessor do dobro de {x} é {d}')"
      ],
      "metadata": {
        "id": "8QEuB67PX-ua",
        "outputId": "4c34c5fb-8882-4bd4-d593-8c64df1ce0b5",
        "colab": {
          "base_uri": "https://localhost:8080/"
        }
      },
      "execution_count": null,
      "outputs": [
        {
          "output_type": "stream",
          "name": "stdout",
          "text": [
            "Digite um número inteiro: 8\n",
            "O sucessor do triplo de 8 é igual a 25 e o antecessor do dobro de 8 é 15\n"
          ]
        }
      ]
    },
    {
      "cell_type": "markdown",
      "source": [
        "#Exercício 14"
      ],
      "metadata": {
        "id": "DZtI64Z6Y-55"
      }
    },
    {
      "cell_type": "code",
      "source": [
        "while True:\n",
        "  try:\n",
        "    l = float(input('Digite o tamanho do lado do quadrado: '))\n",
        "    break\n",
        "  except ValueError:\n",
        "    print('Isto não é um número')\n",
        "a = l * l\n",
        "print(f'O tamanho da área do quadrado é igual a: {a}')\n"
      ],
      "metadata": {
        "id": "EkYfiRacYwoF",
        "outputId": "7eeb30d3-8d96-4df6-d631-97fd156900ba",
        "colab": {
          "base_uri": "https://localhost:8080/"
        }
      },
      "execution_count": null,
      "outputs": [
        {
          "output_type": "stream",
          "name": "stdout",
          "text": [
            "Digite o tamanho do lado do quadrado: 8,\n",
            "Isto não é um número\n",
            "Digite o tamanho do lado do quadrado: 8\n",
            "O tamanho da área do quadrado é igual a: 64.0\n"
          ]
        }
      ]
    },
    {
      "cell_type": "markdown",
      "source": [
        "#Exercício 15"
      ],
      "metadata": {
        "id": "ZY6D5RyBZ33T"
      }
    },
    {
      "cell_type": "code",
      "source": [
        "while True:\n",
        "  try:\n",
        "    v = float(input('Digite o valor do produto: '))\n",
        "    break\n",
        "  except ValueError:\n",
        "    print('Isto não é um número')\n",
        "d = (v * 0.12)\n",
        "desconto = v - d\n",
        "print(f'O preço deste produto com desconto de 12% é igual a: R${desconto}')"
      ],
      "metadata": {
        "id": "21JshOC3Zx8o",
        "outputId": "e0688109-7283-41bc-acd9-057f69a980c8",
        "colab": {
          "base_uri": "https://localhost:8080/"
        }
      },
      "execution_count": null,
      "outputs": [
        {
          "output_type": "stream",
          "name": "stdout",
          "text": [
            "Digite o valor do produto: 100\n",
            "O preço deste produto com desconto de 12% é igual a: R$88.0\n"
          ]
        }
      ]
    },
    {
      "cell_type": "markdown",
      "source": [
        "#Exercício 16"
      ],
      "metadata": {
        "id": "WqF450UVbTbj"
      }
    },
    {
      "cell_type": "code",
      "source": [
        "while True:\n",
        "  try:\n",
        "    v = float(input('Digite o salário do funcionário: '))\n",
        "    break\n",
        "  except ValueError:\n",
        "    print('Isto não é um número')\n",
        "d = v * 1.25\n",
        "print(f'O salário do funcionário com 25% de aumento é igual a: R${d}')"
      ],
      "metadata": {
        "id": "9mxAqZZvaztw",
        "outputId": "1fc5b2c0-a051-45c2-e9c2-01edda7bbb96",
        "colab": {
          "base_uri": "https://localhost:8080/"
        }
      },
      "execution_count": null,
      "outputs": [
        {
          "output_type": "stream",
          "name": "stdout",
          "text": [
            "Digite o salário do funcionário: 1500\n",
            "O salário do funcionário com 25% de aumento é igual a: R$1875.0\n"
          ]
        }
      ]
    },
    {
      "cell_type": "markdown",
      "source": [
        "#Exercício 17"
      ],
      "metadata": {
        "id": "p4gKE7GidloJ"
      }
    },
    {
      "cell_type": "code",
      "source": [
        "try:\n",
        "  s = float(input('Digite quanto você ganha a hora de trabalho: R$'))\n",
        "  h = int(input('Digite o número de horas trabalhadas por dia: '))\n",
        "  d = int(input('Digite o número de dias trabalhados: '))\n",
        "except ValueError:\n",
        "  print('Isto não é um número')\n",
        "ht = (s*h)*d * 1.1\n",
        "print(f'O valor a receber no mês é: {ht}')"
      ],
      "metadata": {
        "id": "Qb8dpzhbdhCJ",
        "outputId": "61e084dc-b4e1-4575-b8b9-2550d108a58e",
        "colab": {
          "base_uri": "https://localhost:8080/"
        }
      },
      "execution_count": null,
      "outputs": [
        {
          "output_type": "stream",
          "name": "stdout",
          "text": [
            "Digite quanto você ganha a hora de trabalho: R$8.6\n",
            "Digite o número de horas trabalhadas por dia: 8\n",
            "Digite o número de dias trabalhados: 20\n",
            "O valor a receber no mês é: 1513.6000000000001\n"
          ]
        }
      ]
    },
    {
      "cell_type": "markdown",
      "source": [
        "#Exercício 18"
      ],
      "metadata": {
        "id": "ZFyfGgC-VPRa"
      }
    },
    {
      "cell_type": "code",
      "source": [
        "try:\n",
        " ano_atual = int(input('Em que ano estamos?: '))\n",
        " ano_nasc = int(input('Digite o ano em que você nasceu: '))\n",
        "except ValueError:\n",
        "  print('Isto não é um ano!')\n",
        "idade = ano_atual - ano_nasc;\n",
        "print(f'A sua idade é: {idade} anos')\n"
      ],
      "metadata": {
        "id": "kFEpvt8PUjnK",
        "outputId": "18094675-26ae-49ab-a4cb-0a2010dc155d",
        "colab": {
          "base_uri": "https://localhost:8080/"
        }
      },
      "execution_count": null,
      "outputs": [
        {
          "output_type": "stream",
          "name": "stdout",
          "text": [
            "Em que ano estamos?: 2022\n",
            "Digite o ano em que você nasceu: 2001\n",
            "A sua idade é: 21 anos\n"
          ]
        }
      ]
    },
    {
      "cell_type": "markdown",
      "source": [
        "#Exercício 19"
      ],
      "metadata": {
        "id": "KorXFRdyYJ_1"
      }
    },
    {
      "cell_type": "code",
      "source": [
        "import math\n",
        "float(input('Digite o X: '))\n",
        "float(input('Digite o Y: '))\n",
        "# z = y ao quadrado * x ao quadrado dividido pela raiz"
      ],
      "metadata": {
        "id": "YdVdMijaVugT"
      },
      "execution_count": null,
      "outputs": []
    },
    {
      "cell_type": "markdown",
      "source": [
        "#Exercício 20"
      ],
      "metadata": {
        "id": "S4zqQmNKYKlB"
      }
    },
    {
      "cell_type": "code",
      "source": [
        "salario_base = float(input('Digite aqui o seu salário base: '))\n",
        "salariob_gratificacao = salario_base * 0.05\n",
        "salariob_imposto = salario_base * 0.07\n",
        "salario_base = salario_base + salariob_gratificacao - salariob_imposto\n",
        "print(f'Seu salário base com gratificação e taxa de imposto é: {salario_base}')"
      ],
      "metadata": {
        "id": "P1ty3TWiYLWd",
        "outputId": "19814ba7-8224-47ac-ef79-46e9166cad45",
        "colab": {
          "base_uri": "https://localhost:8080/"
        }
      },
      "execution_count": 2,
      "outputs": [
        {
          "output_type": "stream",
          "name": "stdout",
          "text": [
            "Digite aqui o seu salário base: 1250\n",
            "Seu salário base com gratificação e taxa de imposto é: 1225.0\n"
          ]
        }
      ]
    },
    {
      "cell_type": "markdown",
      "source": [
        "#Exercício 21"
      ],
      "metadata": {
        "id": "_7Snz9wARo1P"
      }
    },
    {
      "cell_type": "code",
      "source": [
        "print('Digite dois números e veja qual é o maior')\n",
        "x = int(input('Digite o primero: '))\n",
        "y = int(input('Digite o segundo: '))\n",
        "if x>y:\n",
        "  print(f'{x} é maior que {y}')\n",
        "else:\n",
        "  print(f'{x} é menor que {y}')"
      ],
      "metadata": {
        "id": "YZHa9bAERAFW",
        "outputId": "6d7fb9de-7c24-4b13-85f8-c87aa65dd093",
        "colab": {
          "base_uri": "https://localhost:8080/"
        }
      },
      "execution_count": 7,
      "outputs": [
        {
          "output_type": "stream",
          "name": "stdout",
          "text": [
            "Digite dois números e veja qual é o maior\n",
            "Digite o primero: 7\n",
            "Digite o segundo: 5\n",
            "7 é maior que 5\n"
          ]
        }
      ]
    },
    {
      "cell_type": "markdown",
      "source": [
        "#Exercício 22"
      ],
      "metadata": {
        "id": "6OFqjpPDSmz2"
      }
    },
    {
      "cell_type": "code",
      "source": [
        "x = int(input('Digite um número: '))\n",
        "if x > 0:\n",
        " y = x ** (1/2)\n",
        " print(f'A raiz quadrada de {x} é: {y}')\n",
        "else:\n",
        "  print('Número inválido')"
      ],
      "metadata": {
        "id": "PIDgJKb9SR09",
        "outputId": "d4c10021-d5e9-4ed1-9cc3-3bcb18b1d5c1",
        "colab": {
          "base_uri": "https://localhost:8080/"
        }
      },
      "execution_count": 15,
      "outputs": [
        {
          "output_type": "stream",
          "name": "stdout",
          "text": [
            "Digite um número: -5\n",
            "Número inválido\n"
          ]
        }
      ]
    },
    {
      "cell_type": "markdown",
      "source": [
        "#Exercício 23"
      ],
      "metadata": {
        "id": "EMquRkAaTmZa"
      }
    },
    {
      "cell_type": "code",
      "source": [
        "real = float(input('Digite um número Real: '))\n",
        "if real > 0:\n",
        "  real_raiz = real ** (1/2)\n",
        "  print(f'A raiz quadrada de {real} é: {real_raiz}')\n",
        "else:\n",
        "  real_ao_quadrado = real ** 2\n",
        "  print(f'{real} ao quadrado é iagual a: {real_ao_quadrado}')"
      ],
      "metadata": {
        "id": "amCRovciTE6C",
        "outputId": "e9882b84-1fa3-4170-fdc3-2cbfa848b5b0",
        "colab": {
          "base_uri": "https://localhost:8080/"
        }
      },
      "execution_count": 21,
      "outputs": [
        {
          "output_type": "stream",
          "name": "stdout",
          "text": [
            "Digite um número Real: 16\n",
            "A raiz quadrada de 16.0 é: 4.0\n"
          ]
        }
      ]
    },
    {
      "cell_type": "markdown",
      "source": [
        "#Exercício 24"
      ],
      "metadata": {
        "id": "LAJYxi4rUWqS"
      }
    },
    {
      "cell_type": "code",
      "source": [
        "x = int(input('Digite um número e veja se ele é par ou ímpar: '))\n",
        "if x % 2 == 0:\n",
        "  print(f'{x} é par')\n",
        "else:\n",
        "  print(f'{x} é ímpar')\n"
      ],
      "metadata": {
        "id": "ikEoQqv1TuqC",
        "outputId": "a7e5a6da-511a-463c-d71b-464af552aaa7",
        "colab": {
          "base_uri": "https://localhost:8080/"
        }
      },
      "execution_count": 30,
      "outputs": [
        {
          "output_type": "stream",
          "name": "stdout",
          "text": [
            "Digite um número e veja se ele é par ou ímpar: 27\n",
            "27 é ímpar\n"
          ]
        }
      ]
    },
    {
      "cell_type": "markdown",
      "source": [
        "#Exercício 25"
      ],
      "metadata": {
        "id": "fj0hgig3WRx3"
      }
    },
    {
      "cell_type": "code",
      "source": [
        "print('Digite dois números e veja qual é o maior ou se são iguais')\n",
        "x = int(input('Digite o primero: '))\n",
        "y = int(input('Digite o segundo: '))\n",
        "if x>y:\n",
        "  print(f'{x} é maior que {y}')\n",
        "elif x == y:\n",
        "  print(f'{x} e {y} são iguais')\n",
        "else:\n",
        "  print(f'{x} é menor que {y}')"
      ],
      "metadata": {
        "id": "Em1PO1BLVQci",
        "outputId": "3a8fea1d-f591-4607-f8e4-1a500049509b",
        "colab": {
          "base_uri": "https://localhost:8080/"
        }
      },
      "execution_count": 33,
      "outputs": [
        {
          "output_type": "stream",
          "name": "stdout",
          "text": [
            "Digite dois números e veja qual é o maior ou se são iguais\n",
            "Digite o primero: 2\n",
            "Digite o segundo: 2\n",
            "2 e 2 são iguais\n"
          ]
        }
      ]
    },
    {
      "cell_type": "markdown",
      "source": [
        "#Exercício 26"
      ],
      "metadata": {
        "id": "GV13QebcWuVG"
      }
    },
    {
      "cell_type": "code",
      "source": [
        "salario = float(input('Digite aqui o seu salário: '))\n",
        "emprestimo = float(input('Digite quanto quer de empréstimo: '))\n",
        "if emprestimo > (salario * 0.20):\n",
        "  print(f'Empréstimo não concedido.')\n",
        "else:\n",
        "  print('Empréstimo concedido!')"
      ],
      "metadata": {
        "id": "z-CjmJxzWn0L",
        "outputId": "4b710c53-5f6b-4c93-dc8f-395237712033",
        "colab": {
          "base_uri": "https://localhost:8080/"
        }
      },
      "execution_count": 38,
      "outputs": [
        {
          "output_type": "stream",
          "name": "stdout",
          "text": [
            "Digite aqui o seu salário: 2500\n",
            "Digite quanto quer de empréstimo: 501\n",
            "Empréstimo não concedido.\n"
          ]
        }
      ]
    },
    {
      "cell_type": "markdown",
      "source": [
        "#Exercício 27"
      ],
      "metadata": {
        "id": "iDFnJN_7YI36"
      }
    },
    {
      "cell_type": "code",
      "source": [
        "salario = float(input('Digite aqui o seu salário: '))\n",
        "imposto = float(input('Digite quanto pagou de imposto: '))\n",
        "if imposto > 200:\n",
        "  print('Acima de R$200,00!')\n",
        "else:\n",
        "  print('Abaixo de R$200,00')"
      ],
      "metadata": {
        "id": "kZBEDYANXyCz",
        "outputId": "c36893aa-6c5a-4147-d3aa-f4fc21a53f67",
        "colab": {
          "base_uri": "https://localhost:8080/"
        }
      },
      "execution_count": 39,
      "outputs": [
        {
          "output_type": "stream",
          "name": "stdout",
          "text": [
            "Digite aqui o seu salário: 500\n",
            "Digite quanto pagou de imposto: 100\n",
            "Abaixo de R$200,00\n"
          ]
        }
      ]
    },
    {
      "cell_type": "markdown",
      "source": [
        "#Excercíco 28"
      ],
      "metadata": {
        "id": "2QInDHFLYufW"
      }
    },
    {
      "cell_type": "code",
      "source": [
        "import math\n",
        "x = int(input('Digite um número inteiro: '))\n",
        "if x < 0:\n",
        "  print('Número inválido.')\n",
        "else:\n",
        "  log = math.log10(x)\n",
        "  print(f'O log de {x} é: {log}')"
      ],
      "metadata": {
        "id": "8Y99cyRJYnz9",
        "outputId": "5ab0b992-5572-4cf6-e2a1-1a6fc0b92406",
        "colab": {
          "base_uri": "https://localhost:8080/"
        }
      },
      "execution_count": 40,
      "outputs": [
        {
          "output_type": "stream",
          "name": "stdout",
          "text": [
            "Digite um número inteiro: 5\n",
            "O log de 5 é: 0.6989700043360189\n"
          ]
        }
      ]
    },
    {
      "cell_type": "markdown",
      "source": [
        "#Exercício 29"
      ],
      "metadata": {
        "id": "44zKcJ4CZhiq"
      }
    },
    {
      "cell_type": "code",
      "source": [],
      "metadata": {
        "id": "z7PXmb75ZYwy"
      },
      "execution_count": null,
      "outputs": []
    }
  ]
}