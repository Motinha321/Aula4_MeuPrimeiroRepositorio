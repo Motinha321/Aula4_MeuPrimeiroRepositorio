{
  "nbformat": 4,
  "nbformat_minor": 0,
  "metadata": {
    "colab": {
      "name": "Exercícios Python - Linguagem de Programação III",
      "provenance": [],
      "toc_visible": true,
      "authorship_tag": "ABX9TyPO7MWzBc+kiHKGzJMivnIP",
      "include_colab_link": true
    },
    "kernelspec": {
      "name": "python3",
      "display_name": "Python 3"
    },
    "language_info": {
      "name": "python"
    }
  },
  "cells": [
    {
      "cell_type": "markdown",
      "metadata": {
        "id": "view-in-github",
        "colab_type": "text"
      },
      "source": [
        "<a href=\"https://colab.research.google.com/github/Motinha321/Aula4_MeuPrimeiroRepositorio/blob/main/Exerc%C3%ADcios_Python_Linguagem_de_Programa%C3%A7%C3%A3o_III.ipynb\" target=\"_parent\"><img src=\"https://colab.research.google.com/assets/colab-badge.svg\" alt=\"Open In Colab\"/></a>"
      ]
    },
    {
      "cell_type": "markdown",
      "source": [
        "#Exercício 1"
      ],
      "metadata": {
        "id": "yVsLYcsnGJ0o"
      }
    },
    {
      "cell_type": "code",
      "source": [
        "x = 1;\n",
        "print( 'O valor de x é:', x,'e ele é', type(x) )"
      ],
      "metadata": {
        "colab": {
          "base_uri": "https://localhost:8080/"
        },
        "id": "CO5Xn80gGMX_",
        "outputId": "8363269a-7187-484d-c015-5e2d83372d07"
      },
      "execution_count": null,
      "outputs": [
        {
          "output_type": "stream",
          "name": "stdout",
          "text": [
            "O valor de x é: 1 e ele é <class 'int'>\n"
          ]
        }
      ]
    },
    {
      "cell_type": "markdown",
      "source": [
        "#Exercício 2"
      ],
      "metadata": {
        "id": "SAaIRedrIBLF"
      }
    },
    {
      "cell_type": "code",
      "source": [
        "y = 2.5\n",
        "print( 'O valor de x é:', y,'e ele é', type(y) )"
      ],
      "metadata": {
        "colab": {
          "base_uri": "https://localhost:8080/"
        },
        "id": "ewYnL0nWGcKA",
        "outputId": "7db93925-b25f-4443-dace-5e7e2fcc7a6d"
      },
      "execution_count": null,
      "outputs": [
        {
          "output_type": "stream",
          "name": "stdout",
          "text": [
            "O valor de x é: 2.5 e ele é <class 'float'>\n"
          ]
        }
      ]
    },
    {
      "cell_type": "markdown",
      "source": [
        "#Exercício 3"
      ],
      "metadata": {
        "id": "weX29V4kIVNI"
      }
    },
    {
      "cell_type": "code",
      "source": [
        "print('Digite um número inteiro: ')\n",
        "print('\\n')\n",
        "a = int(input())\n",
        "print('\\n')\n",
        "print('Mais um número inteiro: ')\n",
        "print('\\n')\n",
        "b = int(input())\n",
        "print('\\n')\n",
        "print('O último número inteiro: ')\n",
        "print('\\n')\n",
        "c = int(input())\n",
        "print('\\n')\n",
        "d = a + b + c\n",
        "print('O resultado da soma dos números inteiros é:', d);"
      ],
      "metadata": {
        "colab": {
          "base_uri": "https://localhost:8080/"
        },
        "id": "uMzf8pQoISGt",
        "outputId": "061aca84-914d-4bec-b569-3fee673c21a2"
      },
      "execution_count": 2,
      "outputs": [
        {
          "output_type": "stream",
          "name": "stdout",
          "text": [
            "Digite um número inteiro: \n",
            "\n",
            "\n",
            "5\n",
            "\n",
            "\n",
            "Mais um número inteiro: \n",
            "\n",
            "\n",
            "6\n",
            "\n",
            "\n",
            "O último número inteiro: \n",
            "\n",
            "\n",
            "7\n",
            "\n",
            "\n",
            "O resultado da soma dos números inteiros é: 18\n"
          ]
        }
      ]
    },
    {
      "cell_type": "markdown",
      "source": [
        "#Exercício 4"
      ],
      "metadata": {
        "id": "WYymKDdTNWwo"
      }
    },
    {
      "cell_type": "code",
      "source": [
        "f = float(input('Digite um número real: '))\n",
        "g = f * f\n",
        "print('O resultado ao quadrado deste número é:', g)"
      ],
      "metadata": {
        "colab": {
          "base_uri": "https://localhost:8080/"
        },
        "id": "imAS1Xh7JAN5",
        "outputId": "6a022b2c-5fde-4b84-a49d-78ef97f1036f"
      },
      "execution_count": 1,
      "outputs": [
        {
          "output_type": "stream",
          "name": "stdout",
          "text": [
            "Digite um número real: 5\n",
            "O resultado ao quadrado deste número é: 25.0\n"
          ]
        }
      ]
    },
    {
      "cell_type": "markdown",
      "source": [
        "#Exercício 5"
      ],
      "metadata": {
        "id": "5CPtttKy0a6L"
      }
    },
    {
      "cell_type": "code",
      "source": [
        "x = float(input('Digite um número real '))\n",
        "y = x / 5\n",
        "print( f'A quinta parte de {x} é igual a {y}')"
      ],
      "metadata": {
        "id": "_w1gT0PPNs8n",
        "outputId": "be2c7a50-92cf-4b6e-b740-d0b430395dea",
        "colab": {
          "base_uri": "https://localhost:8080/"
        }
      },
      "execution_count": 5,
      "outputs": [
        {
          "output_type": "stream",
          "name": "stdout",
          "text": [
            "Digite um número real 5\n",
            "A quinta parte de 5.0 é igual a 1.0\n"
          ]
        }
      ]
    },
    {
      "cell_type": "markdown",
      "source": [
        "#Exercício 6"
      ],
      "metadata": {
        "id": "xT1Bnwhn1oVx"
      }
    },
    {
      "cell_type": "code",
      "source": [
        "c = float(input('Digite quantos °C está hoje: '))\n",
        "f = (c*9/5) + 32\n",
        "print(f'{c}°C em Fahrenheith é igual a: {f}')"
      ],
      "metadata": {
        "id": "gPjj2uxF1gZn",
        "outputId": "14527159-ad73-4f8b-cf60-9029d2a81cda",
        "colab": {
          "base_uri": "https://localhost:8080/"
        }
      },
      "execution_count": 11,
      "outputs": [
        {
          "output_type": "stream",
          "name": "stdout",
          "text": [
            "Digite quantos °C está hoje: 35\n",
            "35.0°C em Fahrenheith é igual a: 95.0\n"
          ]
        }
      ]
    },
    {
      "cell_type": "markdown",
      "source": [
        "#Exercício 7"
      ],
      "metadata": {
        "id": "CjPO2MRQ2dd9"
      }
    },
    {
      "cell_type": "code",
      "source": [
        "k = float(input('Digite quantos K está hoje: '))\n",
        "c = k - 279.15\n",
        "print(f'{k} em Celcius é igual a: {c}')"
      ],
      "metadata": {
        "id": "7k5xUcBg2aOt",
        "outputId": "1b9cabd9-7040-4724-a333-ee475fe4b575",
        "colab": {
          "base_uri": "https://localhost:8080/"
        }
      },
      "execution_count": 10,
      "outputs": [
        {
          "output_type": "stream",
          "name": "stdout",
          "text": [
            "Digite quantos K está hoje: 842\n",
            "842.0 em Celcius é igual a: 562.85\n"
          ]
        }
      ]
    },
    {
      "cell_type": "markdown",
      "source": [
        "#Exercício 8"
      ],
      "metadata": {
        "id": "vr9yGY6N3Ra5"
      }
    },
    {
      "cell_type": "code",
      "source": [
        "import math\n",
        "a = float(input('Digite um ângulo: '))\n",
        "r = a * math.pi / 180\n",
        "print(f'O ângulo de {a} é igual a: {r}')"
      ],
      "metadata": {
        "id": "vMS2CuNr29-3",
        "outputId": "25643c28-6cfe-4c2b-95b5-551bc292d870",
        "colab": {
          "base_uri": "https://localhost:8080/"
        }
      },
      "execution_count": 12,
      "outputs": [
        {
          "output_type": "stream",
          "name": "stdout",
          "text": [
            "Digite um ângulo: 30\n",
            "O ângulo de 30.0 é igual a: 0.5235987755982988\n"
          ]
        }
      ]
    },
    {
      "cell_type": "markdown",
      "source": [
        "#Exercício 9"
      ],
      "metadata": {
        "id": "Am4kmSAW4WWw"
      }
    },
    {
      "cell_type": "code",
      "source": [
        "p = float(input('Digite uma medida em polegadas: '))\n",
        "c = p * 2.54\n",
        "print(f'Esta medida de {p} polegadas é igual a {c} centímetros')"
      ],
      "metadata": {
        "id": "8y2ObXE44Qnv",
        "outputId": "64c4481c-7a7e-401a-cb74-cc4a889b8376",
        "colab": {
          "base_uri": "https://localhost:8080/"
        }
      },
      "execution_count": 13,
      "outputs": [
        {
          "output_type": "stream",
          "name": "stdout",
          "text": [
            "Digite uma medida em polegadas: 50\n",
            "Esta medida de 50.0 polegadas é igual a 127.0 centímetros\n"
          ]
        }
      ]
    },
    {
      "cell_type": "markdown",
      "source": [
        "#Exercício 10"
      ],
      "metadata": {
        "id": "PsVwUbtA5Ats"
      }
    },
    {
      "cell_type": "code",
      "source": [
        "a = float(input('Digite um valor: '))\n",
        "b = float(input('Agora outro: '))\n",
        "c = float(input('Só mais um: '))\n",
        "d = (a*a) + (b*b) + (c*c)\n",
        "print(f'Cada número foi elevado ao quadrado, e a soma de todos eles é igual a: {d}')"
      ],
      "metadata": {
        "id": "-TRII-LI40ZX",
        "outputId": "9c8daaf3-6f7b-409e-fb0b-340dfe122b7d",
        "colab": {
          "base_uri": "https://localhost:8080/"
        }
      },
      "execution_count": 15,
      "outputs": [
        {
          "output_type": "stream",
          "name": "stdout",
          "text": [
            "Digite um valor: 2\n",
            "Agora outro: 3\n",
            "Só mais um: 5\n",
            "Cada número foi elevado ao quadrado, e a soma de todos eles é igual a: 38.0\n"
          ]
        }
      ]
    },
    {
      "cell_type": "code",
      "source": [],
      "metadata": {
        "id": "gkU791Oz5pkv"
      },
      "execution_count": null,
      "outputs": []
    }
  ]
}