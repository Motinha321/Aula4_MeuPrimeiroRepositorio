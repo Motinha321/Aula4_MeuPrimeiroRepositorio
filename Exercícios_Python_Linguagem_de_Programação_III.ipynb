{
  "nbformat": 4,
  "nbformat_minor": 0,
  "metadata": {
    "colab": {
      "name": "Exercícios Python - Linguagem de Programação III",
      "provenance": [],
      "toc_visible": true,
      "authorship_tag": "ABX9TyPJ6zRZVpLwa4MJhIN6vMbT",
      "include_colab_link": true
    },
    "kernelspec": {
      "name": "python3",
      "display_name": "Python 3"
    },
    "language_info": {
      "name": "python"
    }
  },
  "cells": [
    {
      "cell_type": "markdown",
      "metadata": {
        "id": "view-in-github",
        "colab_type": "text"
      },
      "source": [
        "<a href=\"https://colab.research.google.com/github/Motinha321/Aula4_MeuPrimeiroRepositorio/blob/main/Exerc%C3%ADcios_Python_Linguagem_de_Programa%C3%A7%C3%A3o_III.ipynb\" target=\"_parent\"><img src=\"https://colab.research.google.com/assets/colab-badge.svg\" alt=\"Open In Colab\"/></a>"
      ]
    },
    {
      "cell_type": "markdown",
      "source": [
        "#Exercício I"
      ],
      "metadata": {
        "id": "yVsLYcsnGJ0o"
      }
    },
    {
      "cell_type": "code",
      "source": [
        "x = 1;\n",
        "print( 'O valor de x é:', x,'e ele é', type(x) )"
      ],
      "metadata": {
        "colab": {
          "base_uri": "https://localhost:8080/"
        },
        "id": "CO5Xn80gGMX_",
        "outputId": "8363269a-7187-484d-c015-5e2d83372d07"
      },
      "execution_count": 6,
      "outputs": [
        {
          "output_type": "stream",
          "name": "stdout",
          "text": [
            "O valor de x é: 1 e ele é <class 'int'>\n"
          ]
        }
      ]
    },
    {
      "cell_type": "markdown",
      "source": [
        "#Exercício II"
      ],
      "metadata": {
        "id": "SAaIRedrIBLF"
      }
    },
    {
      "cell_type": "code",
      "source": [
        "y = 2.5\n",
        "print( 'O valor de x é:', y,'e ele é', type(y) )"
      ],
      "metadata": {
        "colab": {
          "base_uri": "https://localhost:8080/"
        },
        "id": "ewYnL0nWGcKA",
        "outputId": "7db93925-b25f-4443-dace-5e7e2fcc7a6d"
      },
      "execution_count": 7,
      "outputs": [
        {
          "output_type": "stream",
          "name": "stdout",
          "text": [
            "O valor de x é: 2.5 e ele é <class 'float'>\n"
          ]
        }
      ]
    },
    {
      "cell_type": "markdown",
      "source": [
        "#Exercício III"
      ],
      "metadata": {
        "id": "weX29V4kIVNI"
      }
    },
    {
      "cell_type": "code",
      "source": [
        "d = int\n",
        "print('Digite um número inteiro: ')\n",
        "print('\\n')\n",
        "a = input(int)\n",
        "print('\\n')\n",
        "print('Mais um número inteiro: ')\n",
        "print('\\n')\n",
        "b = input(int)\n",
        "print('\\n')\n",
        "print('O último número inteiro: ')\n",
        "print('\\n')\n",
        "c = input(int)\n",
        "print('\\n')\n",
        "d = a + b + c\n",
        "print('O resultado da soma dos números inteiros é:', d);"
      ],
      "metadata": {
        "colab": {
          "base_uri": "https://localhost:8080/"
        },
        "id": "uMzf8pQoISGt",
        "outputId": "acce8afe-6b9f-4a91-b79e-8e4b882f0837"
      },
      "execution_count": 29,
      "outputs": [
        {
          "output_type": "stream",
          "name": "stdout",
          "text": [
            "Digite um número inteiro: \n",
            "\n",
            "\n",
            "<class 'int'>5\n",
            "\n",
            "\n",
            "Mais um número inteiro: \n",
            "\n",
            "\n",
            "<class 'int'>7\n",
            "\n",
            "\n",
            "O último número inteiro: \n",
            "\n",
            "\n",
            "<class 'int'>8\n",
            "\n",
            "\n",
            "O resultado da soma dos números inteiros é: <class 'int'>\n"
          ]
        }
      ]
    },
    {
      "cell_type": "markdown",
      "source": [
        "#Exercício IV"
      ],
      "metadata": {
        "id": "WYymKDdTNWwo"
      }
    },
    {
      "cell_type": "code",
      "source": [
        "f = input(type(int('Digite um número real: '))\n",
        "g = f * f\n",
        "print('O resultado ao quadrado deste número é:', g)"
      ],
      "metadata": {
        "colab": {
          "base_uri": "https://localhost:8080/",
          "height": 130
        },
        "id": "imAS1Xh7JAN5",
        "outputId": "82984c2e-cd15-4152-c2f5-63fcff413c1d"
      },
      "execution_count": 32,
      "outputs": [
        {
          "output_type": "error",
          "ename": "SyntaxError",
          "evalue": "ignored",
          "traceback": [
            "\u001b[0;36m  File \u001b[0;32m\"<ipython-input-32-03aafefe8a69>\"\u001b[0;36m, line \u001b[0;32m2\u001b[0m\n\u001b[0;31m    g = f * f\u001b[0m\n\u001b[0m    ^\u001b[0m\n\u001b[0;31mSyntaxError\u001b[0m\u001b[0;31m:\u001b[0m invalid syntax\n"
          ]
        }
      ]
    },
    {
      "cell_type": "code",
      "source": [],
      "metadata": {
        "id": "_w1gT0PPNs8n"
      },
      "execution_count": null,
      "outputs": []
    }
  ]
}