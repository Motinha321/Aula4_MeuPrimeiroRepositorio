{
  "nbformat": 4,
  "nbformat_minor": 0,
  "metadata": {
    "colab": {
      "name": "Aula4",
      "provenance": [],
      "toc_visible": true,
      "authorship_tag": "ABX9TyOnY+j5w5z5rKSNmV3YOhCF",
      "include_colab_link": true
    },
    "kernelspec": {
      "name": "python3",
      "display_name": "Python 3"
    },
    "language_info": {
      "name": "python"
    }
  },
  "cells": [
    {
      "cell_type": "markdown",
      "metadata": {
        "id": "view-in-github",
        "colab_type": "text"
      },
      "source": [
        "<a href=\"https://colab.research.google.com/github/Motinha321/Aula4_MeuPrimeiroRepositorio/blob/main/Aula4.ipynb\" target=\"_parent\"><img src=\"https://colab.research.google.com/assets/colab-badge.svg\" alt=\"Open In Colab\"/></a>"
      ]
    },
    {
      "cell_type": "markdown",
      "source": [
        "#Este é meu primeiro código em Python"
      ],
      "metadata": {
        "id": "YPG346saBd6m"
      }
    },
    {
      "cell_type": "markdown",
      "source": [
        "##Semelhança com o pseudocódigo"
      ],
      "metadata": {
        "id": "ee6G1u1ZCKs0"
      }
    },
    {
      "cell_type": "code",
      "execution_count": 9,
      "metadata": {
        "id": "ZqXakQks6Wb3"
      },
      "outputs": [],
      "source": [
        "x = 5"
      ]
    },
    {
      "cell_type": "code",
      "source": [
        "if x == 5:\n",
        "  y = 0\n",
        "  while y < 4:\n",
        "    y = y + 1\n",
        "  print(\"O valor de Y é: \", y)\n",
        "  print(\"\\n\")#Quebra de linha\n",
        "  #ctrl + \"/\" = comentar codigo\n",
        "  print(x)"
      ],
      "metadata": {
        "colab": {
          "base_uri": "https://localhost:8080/"
        },
        "id": "6V7bzfhjCits",
        "outputId": "12d96b6a-517c-4e90-834b-2ed16501e1c6"
      },
      "execution_count": 12,
      "outputs": [
        {
          "output_type": "stream",
          "name": "stdout",
          "text": [
            "O valor de Y é:  4\n",
            "\n",
            "\n",
            "5\n"
          ]
        }
      ]
    },
    {
      "cell_type": "markdown",
      "source": [
        "Ctrl + \"/\" comenta e descomenta o código"
      ],
      "metadata": {
        "id": "P8RpGaBFF5qH"
      }
    },
    {
      "cell_type": "markdown",
      "source": [
        "###Qual o tipo de variável"
      ],
      "metadata": {
        "id": "dMvTHqs5GmkX"
      }
    },
    {
      "cell_type": "code",
      "source": [
        "type(x)#função que devolve o tipo da variável"
      ],
      "metadata": {
        "colab": {
          "base_uri": "https://localhost:8080/"
        },
        "id": "Fwggo_K8Ekjc",
        "outputId": "af5a0fd2-70f0-4ddb-9e48-93b8f340bb54"
      },
      "execution_count": 14,
      "outputs": [
        {
          "output_type": "execute_result",
          "data": {
            "text/plain": [
              "int"
            ]
          },
          "metadata": {},
          "execution_count": 14
        }
      ]
    },
    {
      "cell_type": "code",
      "source": [
        "type(\"x\")#função que devolve o tipo da variável"
      ],
      "metadata": {
        "colab": {
          "base_uri": "https://localhost:8080/"
        },
        "id": "6lL-gFHHG6eu",
        "outputId": "a2c5d174-2c13-48d6-99d3-2a44ab79491b"
      },
      "execution_count": 15,
      "outputs": [
        {
          "output_type": "execute_result",
          "data": {
            "text/plain": [
              "str"
            ]
          },
          "metadata": {},
          "execution_count": 15
        }
      ]
    },
    {
      "cell_type": "markdown",
      "source": [
        "##Voltando para semelhança com pseudocódigo"
      ],
      "metadata": {
        "id": "k4xVZ7r2Hmgn"
      }
    },
    {
      "cell_type": "code",
      "source": [
        "for i in [5, 6, 7, 8, 9]:\n",
        "  print(i)"
      ],
      "metadata": {
        "colab": {
          "base_uri": "https://localhost:8080/"
        },
        "id": "XTagfJJKG8Gl",
        "outputId": "7c4ec64d-b5f3-4040-f559-ca8ec0e2e4c5"
      },
      "execution_count": 17,
      "outputs": [
        {
          "output_type": "stream",
          "name": "stdout",
          "text": [
            "5\n",
            "6\n",
            "7\n",
            "8\n",
            "9\n"
          ]
        }
      ]
    },
    {
      "cell_type": "code",
      "source": [
        "for i in range(10):\n",
        "  print(i)"
      ],
      "metadata": {
        "id": "G_EzI3-qInon",
        "outputId": "dbb2d4a8-29e4-4f31-b15d-a1b63b39c781",
        "colab": {
          "base_uri": "https://localhost:8080/"
        }
      },
      "execution_count": 19,
      "outputs": [
        {
          "output_type": "stream",
          "name": "stdout",
          "text": [
            "0\n",
            "1\n",
            "2\n",
            "3\n",
            "4\n",
            "5\n",
            "6\n",
            "7\n",
            "8\n",
            "9\n"
          ]
        }
      ]
    },
    {
      "cell_type": "code",
      "source": [
        "for i in range(5, 10):\n",
        "  print(i)"
      ],
      "metadata": {
        "id": "J-3UlNL_JJca",
        "outputId": "acfd1484-f03b-4c16-96a0-54bec19a2421",
        "colab": {
          "base_uri": "https://localhost:8080/"
        }
      },
      "execution_count": 20,
      "outputs": [
        {
          "output_type": "stream",
          "name": "stdout",
          "text": [
            "5\n",
            "6\n",
            "7\n",
            "8\n",
            "9\n"
          ]
        }
      ]
    },
    {
      "cell_type": "code",
      "source": [
        "for i in range(5, 10, 2):\n",
        "  print(i)"
      ],
      "metadata": {
        "id": "K9F8rN_aJYA0",
        "outputId": "195b8b40-493d-41f0-a502-b92701b54ed5",
        "colab": {
          "base_uri": "https://localhost:8080/"
        }
      },
      "execution_count": 21,
      "outputs": [
        {
          "output_type": "stream",
          "name": "stdout",
          "text": [
            "5\n",
            "7\n",
            "9\n"
          ]
        }
      ]
    },
    {
      "cell_type": "code",
      "source": [
        "x = 5\n",
        "print(x)\n",
        "print(\"/n\")\n",
        "for x == 5:\n",
        "  y = 0\n",
        "  while y < 4:\n",
        "    y = y + 1\n",
        "    print('O valor de Y é: ', y)\n",
        "    print(\"/n\")\n",
        "    print(x)\n",
        "    print(\"/n\")\n",
        "\n",
        " for i in [5, 6, 7, 8, 9]:\n",
        "  print(i)\n",
        "  print(\"/n\")\n",
        "for i in range(10):\n",
        "  print(i)\n",
        "  print(\"/n\")\n"
      ],
      "metadata": {
        "id": "sbSXCHvlJ-LS",
        "outputId": "45250b93-716b-4e95-84ec-231bcfa4b1f9",
        "colab": {
          "base_uri": "https://localhost:8080/",
          "height": 130
        }
      },
      "execution_count": 23,
      "outputs": [
        {
          "output_type": "error",
          "ename": "IndentationError",
          "evalue": "ignored",
          "traceback": [
            "\u001b[0;36m  File \u001b[0;32m\"<tokenize>\"\u001b[0;36m, line \u001b[0;32m13\u001b[0m\n\u001b[0;31m    for i in [5, 6, 7, 8, 9]:\u001b[0m\n\u001b[0m    ^\u001b[0m\n\u001b[0;31mIndentationError\u001b[0m\u001b[0;31m:\u001b[0m unindent does not match any outer indentation level\n"
          ]
        }
      ]
    },
    {
      "cell_type": "code",
      "source": [
        ""
      ],
      "metadata": {
        "id": "BbYt5hZ_LhdK"
      },
      "execution_count": null,
      "outputs": []
    }
  ]
}