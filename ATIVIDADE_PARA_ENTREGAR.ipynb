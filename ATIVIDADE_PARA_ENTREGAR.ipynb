{
  "nbformat": 4,
  "nbformat_minor": 0,
  "metadata": {
    "colab": {
      "provenance": [],
      "collapsed_sections": [],
      "authorship_tag": "ABX9TyNp7VG1SvDV7QZhvx+mQuaA",
      "include_colab_link": true
    },
    "kernelspec": {
      "name": "python3",
      "display_name": "Python 3"
    },
    "language_info": {
      "name": "python"
    }
  },
  "cells": [
    {
      "cell_type": "markdown",
      "metadata": {
        "id": "view-in-github",
        "colab_type": "text"
      },
      "source": [
        "<a href=\"https://colab.research.google.com/github/Motinha321/Aula4_MeuPrimeiroRepositorio/blob/main/ATIVIDADE_PARA_ENTREGAR.ipynb\" target=\"_parent\"><img src=\"https://colab.research.google.com/assets/colab-badge.svg\" alt=\"Open In Colab\"/></a>"
      ]
    },
    {
      "cell_type": "markdown",
      "source": [
        "#ATIVIDADE PARA ENTREGAR"
      ],
      "metadata": {
        "id": "Ya78BdOwKFsv"
      }
    },
    {
      "cell_type": "markdown",
      "source": [
        "##Atividade 1\n",
        "Escreva um programa que recebe três números e retorna a soma deles, porém se\n",
        "houver números repetidos o valor deles não é contabilizado. Por exemplo, na\n",
        "entrada (1,2,3) a resposta é 6, na entrada (3,2,3) a resposta é 2 e na entrada\n",
        "(3,3,3) a resposta é 0. Evite testes desnecessários"
      ],
      "metadata": {
        "id": "GHHWYhVZKHtX"
      }
    },
    {
      "cell_type": "code",
      "source": [
        "try:\n",
        "   a = float(input('Digite um número: '))\n",
        "   b = float(input('Digite um outro : '))\n",
        "   c = float(input('Digite mais um  : '))\n",
        "except TypeError:\n",
        "   print('Isto não é um número')\n",
        "if a != b\n",
        "  b != c, c != a:\n",
        " print(f'O resultado é: {a+b+c}')\n",
        " \n",
        "elif c == b, b = 0, c = 0:\n",
        " print(f'O resultado é: {a}')\n",
        " \n",
        "elif a == b, b = 0, a = 0:\n",
        " print(f'O resultado é: {c}')\n",
        " \n",
        "elif a == c, c = 0, a = 0:\n",
        " print(f'O resultado é: {b}')\n"
      ],
      "metadata": {
        "colab": {
          "base_uri": "https://localhost:8080/",
          "height": 130
        },
        "id": "Zs7tpWwfKElW",
        "outputId": "291ee3d8-72cf-4e4d-c344-b454429d052d"
      },
      "execution_count": 46,
      "outputs": [
        {
          "output_type": "error",
          "ename": "SyntaxError",
          "evalue": "ignored",
          "traceback": [
            "\u001b[0;36m  File \u001b[0;32m\"<ipython-input-46-06b57cdf9ca7>\"\u001b[0;36m, line \u001b[0;32m7\u001b[0m\n\u001b[0;31m    if a != b, b != c, c != a:\u001b[0m\n\u001b[0m             ^\u001b[0m\n\u001b[0;31mSyntaxError\u001b[0m\u001b[0;31m:\u001b[0m invalid syntax\n"
          ]
        }
      ]
    },
    {
      "cell_type": "markdown",
      "source": [
        "0##Atividade 2\n",
        "Desenvolva um gerador de tabuada, capaz de gerar a tabuada de qualquer\n",
        "número inteiro entre 1 a 10. O usuário deve informar de qual número ele deseja\n",
        "ver a tabuada. A saída deve ser conforme o exemplo abaixo:"
      ],
      "metadata": {
        "id": "5z-L_IeOKTG1"
      }
    },
    {
      "cell_type": "code",
      "source": [
        "try:\n",
        " t = float(input('Digite um número para ver a tabuada dele: '))\n",
        "except TypeError:\n",
        "  print('Isto não é um número real')\n",
        "print(f'Número escolhido: {t}')\n",
        "print(f'1 x {t} = {t*1}')\n",
        "print(f'2 x {t} = {t*2}')\n",
        "print(f'3 x {t} = {t*3}')\n",
        "print(f'4 x {t} = {t*4}')\n",
        "print(f'5 x {t} = {t*5}')\n",
        "print(f'6 x {t} = {t*6}')\n",
        "print(f'7 x {t} = {t*7}')\n",
        "print(f'8 x {t} = {t*8}')\n",
        "print(f'9 x {t} = {t*9}')\n",
        "print(f'10 x {t} = {t*10}')"
      ],
      "metadata": {
        "colab": {
          "base_uri": "https://localhost:8080/"
        },
        "id": "6BKJUgLYKill",
        "outputId": "bcaca654-a015-4b12-b534-2b7b702c2674"
      },
      "execution_count": 25,
      "outputs": [
        {
          "output_type": "stream",
          "name": "stdout",
          "text": [
            "Digite um número para ver a tabuada dele: 8\n",
            "Número escolhido: 8.0\n",
            "1 x 8.0 = 8.0\n",
            "2 x 8.0 = 16.0\n",
            "3 x 8.0 = 24.0\n",
            "4 x 8.0 = 32.0\n",
            "5 x 8.0 = 40.0\n",
            "6 x 8.0 = 48.0\n",
            "7 x 8.0 = 56.0\n",
            "8 x 8.0 = 64.0\n",
            "9 x 8.0 = 72.0\n",
            "10 x 8.0 = 80.0\n"
          ]
        }
      ]
    },
    {
      "cell_type": "markdown",
      "source": [
        "##Atividade 3\n",
        "O Sr. Manoel Joaquim expandiu seus negócios para além dos negócios de 1,99 e\n",
        "agora possui uma loja de conveniências. Faça um programa que implemente uma\n",
        "caixa registradora rudimentar. O programa deverá receber um número\n",
        "desconhecido de valores referentes aos preços das mercadorias. Um valor zero\n",
        "deve ser informado pelo operador para indicar o final da compra. O programa\n",
        "deve então mostrar o total da compra e perguntar o valor em dinheiro que o\n",
        "cliente forneceu, para então calcular e mostrar o valor do troco. Após esta\n",
        "operação, o programa deverá voltar ao ponto inicial, para registrar a próxima\n",
        "compra. A saída deve ser conforme o exemplo abaixo:"
      ],
      "metadata": {
        "id": "mfH6Y4FrKTKs"
      }
    },
    {
      "cell_type": "code",
      "source": [
        "# produtos = [Carrinho, Macan, Mesa, Cadeira, Abajur, Abacate, Flores, Maquita, Finalizar_compra]\n",
        "Carrinho = 10.99 \n",
        "Macan = 2.00 \n",
        "Mesa = 199.99\n",
        "Cadeira = 50.00 \n",
        "Abajur = 78.90 \n",
        "Abacate = 12.50\n",
        "Flores = 19.99 \n",
        "Maquita = 99.99\n",
        "Finalizar_compra = 0\n",
        "compras = []\n",
        "print('Olá! Bem vindo ao mercadinho do Eduardo!')\n",
        "print('Estes são os produtos Disponíveis:')\n",
        "print('Carrinho = 10.99')\n",
        "print('Macan  = 2.00')\n",
        "print('Mesa = 199.99')\n",
        "print('Cadeira = 50.00')\n",
        "print('Abajur = 78.90')\n",
        "print('Abacate = 12.50')\n",
        "print('Flores = 19.99')\n",
        "print('Maquita = 99.99')\n",
        "print('Finalizar compra - Digite 0')\n",
        "f = input('Digite quais produtos você deseja: ')\n",
        "if f == 0:\n",
        " float(input(f'O total deu {t}! Qual o valor a receber?: ')\n",
        "  print(f'O seu troco é {}')\n",
        "else\n",
        " compras.append\n"
      ],
      "metadata": {
        "colab": {
          "base_uri": "https://localhost:8080/",
          "height": 130
        },
        "id": "4vMo_4V8Kq6E",
        "outputId": "df07bafd-82d6-4147-ed0b-85e0ebf3ff02"
      },
      "execution_count": 36,
      "outputs": [
        {
          "output_type": "error",
          "ename": "SyntaxError",
          "evalue": "ignored",
          "traceback": [
            "\u001b[0;36m  File \u001b[0;32m\"<ipython-input-36-51924537d945>\"\u001b[0;36m, line \u001b[0;32m26\u001b[0m\n\u001b[0;31m    print(f'O seu troco é {}')\u001b[0m\n\u001b[0m        ^\u001b[0m\n\u001b[0;31mSyntaxError\u001b[0m\u001b[0;31m:\u001b[0m invalid syntax\n"
          ]
        }
      ]
    },
    {
      "cell_type": "markdown",
      "source": [
        "##Atividade 4\n",
        "Faça um programa para um caixa eletrônico. O programa deverá perguntar ao\n",
        "usuário o valor do saque e depois informar quantas notas de cada valor serão\n",
        "fornecidas. As notas disponíveis serão as de 1, 5, 10, 50 e 100 reais. O valor\n",
        "mínimo é de 10 reais e o máximo de 600 reais. O programa não deve se\n",
        "preocupar com a quantidade de notas existentes na máquina.\n",
        "Exemplo 1: Para sacar a quantia de 256 reais, o programa fornece duas notas de\n",
        "100, uma nota de 50, uma nota de 5 e uma nota de 1;\n",
        "Exemplo 2: Para sacar a quantia de 399 reais, o programa fornece três notas de\n",
        "100, uma nota de 50, quatro notas de 10, uma nota de 5 e quatro notas de 1."
      ],
      "metadata": {
        "id": "xNKiLRKDKTQG"
      }
    },
    {
      "cell_type": "code",
      "source": [],
      "metadata": {
        "id": "t4u5p81lKsAE"
      },
      "execution_count": null,
      "outputs": []
    }
  ]
}